{
 "cells": [
  {
   "cell_type": "code",
   "execution_count": 16,
   "metadata": {},
   "outputs": [],
   "source": [
    "!pkill bash"
   ]
  },
  {
   "cell_type": "code",
   "execution_count": 17,
   "metadata": {},
   "outputs": [],
   "source": [
    "!gnome-terminal -- sh -c \"bash -c \\\" make EjecutarQemuParaDebug ; exec bash\\\"\""
   ]
  },
  {
   "cell_type": "code",
   "execution_count": 18,
   "metadata": {},
   "outputs": [
    {
     "name": "stdout",
     "output_type": "stream",
     "text": [
      "cd ~; echo \"add-auto-load-safe-path\" /home/gabrielcrisafio/Escritorio/TD3-2023-Linux/GIT/repolocal/r5051-CRISAFIO-GABRIEL/01_cuat/TP6/TP6_v1 > .gdbinit;\n",
      "cd ~; cd /home/gabrielcrisafio/Escritorio/TD3-2023-Linux/GIT/repolocal/r5051-CRISAFIO-GABRIEL/01_cuat/TP6/TP6_v1; echo \"set architecture arm\" > .gdbinit; echo \"target remote localhost:2159\" >> .gdbinit\n",
      "gnome-terminal -- sh -c \"bash -c \\\" cd ~; cd /home/gabrielcrisafio/Escritorio/TD3-2023-Linux/GIT/repolocal/r5051-CRISAFIO-GABRIEL/01_cuat/TP6/TP6_v1; ddd --debugger gdb-multiarch obj/mi_TP6_v1.elf ; exec bash\\\"\"\n"
     ]
    }
   ],
   "source": [
    "!make Ejecutarddd"
   ]
  }
 ],
 "metadata": {
  "kernelspec": {
   "display_name": "Python 3",
   "language": "python",
   "name": "python3"
  },
  "language_info": {
   "codemirror_mode": {
    "name": "ipython",
    "version": 3
   },
   "file_extension": ".py",
   "mimetype": "text/x-python",
   "name": "python",
   "nbconvert_exporter": "python",
   "pygments_lexer": "ipython3",
   "version": "3.8.10"
  },
  "orig_nbformat": 4
 },
 "nbformat": 4,
 "nbformat_minor": 2
}
