{
 "cells": [
  {
   "cell_type": "code",
   "execution_count": 1,
   "metadata": {},
   "outputs": [],
   "source": [
    "!pkill bash"
   ]
  },
  {
   "cell_type": "code",
   "execution_count": 2,
   "metadata": {},
   "outputs": [],
   "source": [
    "!gnome-terminal -- sh -c \"bash -c \\\" make EjecutarQemuParaDebug ; exec bash\\\"\""
   ]
  },
  {
   "cell_type": "code",
   "execution_count": 3,
   "metadata": {},
   "outputs": [
    {
     "name": "stdout",
     "output_type": "stream",
     "text": [
      "cd ~; echo \"add-auto-load-safe-path\" /home/gabrielcrisafio/Escritorio/UTN/TD3/TP_2025/TP2v4 > .gdbinit;\n",
      "cd ~; cd /home/gabrielcrisafio/Escritorio/UTN/TD3/TP_2025/TP2v4; echo \"set architecture arm\" > .gdbinit; echo \"target remote localhost:2159\" >> .gdbinit\n",
      "gnome-terminal -- sh -c \"bash -c \\\" cd ~; cd /home/gabrielcrisafio/Escritorio/UTN/TD3/TP_2025/TP2v4; ddd --debugger gdb-multiarch obj/mi_TP2v4.elf ; exec bash\\\"\"\n"
     ]
    }
   ],
   "source": [
    "!make Ejecutarddd"
   ]
  }
 ],
 "metadata": {
  "kernelspec": {
   "display_name": "Python 3",
   "language": "python",
   "name": "python3"
  },
  "language_info": {
   "codemirror_mode": {
    "name": "ipython",
    "version": 3
   },
   "file_extension": ".py",
   "mimetype": "text/x-python",
   "name": "python",
   "nbconvert_exporter": "python",
   "pygments_lexer": "ipython3",
   "version": "3.12.3"
  },
  "orig_nbformat": 4
 },
 "nbformat": 4,
 "nbformat_minor": 2
}
