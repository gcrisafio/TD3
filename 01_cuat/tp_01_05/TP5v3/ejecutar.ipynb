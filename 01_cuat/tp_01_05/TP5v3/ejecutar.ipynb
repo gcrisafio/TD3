{
 "cells": [
  {
   "cell_type": "code",
   "execution_count": 64,
   "metadata": {},
   "outputs": [
    {
     "name": "stdout",
     "output_type": "stream",
     "text": [
      "rm -rf obj/*.o\n",
      "rm -rf obj/*.elf\n",
      "rm -rf obj/*.d\n",
      "rm -rf obj/*.txt\n",
      "rm -rf bin/*.bin\n",
      "rm -rf lst/*.lst\n",
      "rm -rf lst/*.txt\n",
      "rm -rf lst/*.map\n"
     ]
    }
   ],
   "source": [
    "!make clean"
   ]
  },
  {
   "cell_type": "code",
   "execution_count": 65,
   "metadata": {},
   "outputs": [],
   "source": [
    "!pkill bash"
   ]
  },
  {
   "cell_type": "code",
   "execution_count": 66,
   "metadata": {},
   "outputs": [],
   "source": [
    "!gnome-terminal -- sh -c \"bash -c \\\" make EjecutarQemuParaDebug ; exec bash\\\"\""
   ]
  },
  {
   "cell_type": "code",
   "execution_count": 67,
   "metadata": {},
   "outputs": [
    {
     "name": "stdout",
     "output_type": "stream",
     "text": [
      "cd ~; echo \"add-auto-load-safe-path\" /home/gabrielcrisafio/Escritorio/UTN/TD3/TP_2025/01_cuat_pruebas/tp_01_05/TP5v3 > .gdbinit;\n",
      "cd ~; cd /home/gabrielcrisafio/Escritorio/UTN/TD3/TP_2025/01_cuat_pruebas/tp_01_05/TP5v3; echo \"set architecture arm\" > .gdbinit; echo \"target remote localhost:2159\" >> .gdbinit\n",
      "gnome-terminal -- sh -c \"bash -c \\\" cd ~; cd /home/gabrielcrisafio/Escritorio/UTN/TD3/TP_2025/01_cuat_pruebas/tp_01_05/TP5v3; ddd --debugger gdb-multiarch obj/mi_TP5v3.elf ; exec bash\\\"\"\n"
     ]
    }
   ],
   "source": [
    "!make Ejecutarddd"
   ]
  }
 ],
 "metadata": {
  "kernelspec": {
   "display_name": "Python 3",
   "language": "python",
   "name": "python3"
  },
  "language_info": {
   "codemirror_mode": {
    "name": "ipython",
    "version": 3
   },
   "file_extension": ".py",
   "mimetype": "text/x-python",
   "name": "python",
   "nbconvert_exporter": "python",
   "pygments_lexer": "ipython3",
   "version": "3.12.3"
  },
  "orig_nbformat": 4
 },
 "nbformat": 4,
 "nbformat_minor": 2
}
